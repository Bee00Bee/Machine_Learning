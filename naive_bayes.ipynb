{
 "cells": [
  {
   "cell_type": "markdown",
   "id": "23dd39f1-fd88-4cd0-8479-206aafd14b1c",
   "metadata": {},
   "source": [
    "# Naive Bayes\n",
    "Naive Bayes methods are a set of supervised learning algorithms based on applying Bayes’ theorem with the “naive” assumption of conditional independence between every pair of features given the value of the class variable (for more information visit this link: [Naive Bayes](https://scikit-learn.org/stable/modules/naive_bayes.html))\n",
    "\n",
    "$$ \\begin{aligned}\n",
    "p(Y \\mid X_1, \\ldots, X_p) & = \\frac{ p(Y) p( X_1, \\ldots, X_p \\mid Y) }{ p( X_1, \\ldots, X_p) }\\\\\n",
    "\\approx p(Y) \\prod_{i=1}^p p(X_i \\mid Y)\n",
    "\\end{aligned}$$"
   ]
  },
  {
   "cell_type": "code",
   "execution_count": 73,
   "id": "6ce54847-2cd4-4332-bdcc-6706c4c92775",
   "metadata": {
    "tags": []
   },
   "outputs": [],
   "source": [
    "import pandas as pd\n",
    "import numpy as np\n",
    "import seaborn as sns\n",
    "\n",
    "from sklearn.model_selection import train_test_split\n",
    "from sklearn import preprocessing\n",
    "from sklearn.naive_bayes import GaussianNB\n",
    "from sklearn.naive_bayes import BernoulliNB\n",
    "from sklearn.metrics import confusion_matrix, precision_score, classification_report"
   ]
  },
  {
   "cell_type": "code",
   "execution_count": 82,
   "id": "ebf5e8da-dc79-48ea-b237-891659eeccd4",
   "metadata": {
    "tags": []
   },
   "outputs": [
    {
     "data": {
      "text/html": [
       "<div>\n",
       "<style scoped>\n",
       "    .dataframe tbody tr th:only-of-type {\n",
       "        vertical-align: middle;\n",
       "    }\n",
       "\n",
       "    .dataframe tbody tr th {\n",
       "        vertical-align: top;\n",
       "    }\n",
       "\n",
       "    .dataframe thead th {\n",
       "        text-align: right;\n",
       "    }\n",
       "</style>\n",
       "<table border=\"1\" class=\"dataframe\">\n",
       "  <thead>\n",
       "    <tr style=\"text-align: right;\">\n",
       "      <th></th>\n",
       "      <th>class</th>\n",
       "      <th>cap-shape</th>\n",
       "      <th>cap-surface</th>\n",
       "      <th>cap-color</th>\n",
       "      <th>bruises</th>\n",
       "      <th>odor</th>\n",
       "      <th>gill-attachment</th>\n",
       "      <th>gill-spacing</th>\n",
       "      <th>gill-size</th>\n",
       "      <th>gill-color</th>\n",
       "      <th>...</th>\n",
       "      <th>stalk-surface-below-ring</th>\n",
       "      <th>stalk-color-above-ring</th>\n",
       "      <th>stalk-color-below-ring</th>\n",
       "      <th>veil-type</th>\n",
       "      <th>veil-color</th>\n",
       "      <th>ring-number</th>\n",
       "      <th>ring-type</th>\n",
       "      <th>spore-print-color</th>\n",
       "      <th>population</th>\n",
       "      <th>habitat</th>\n",
       "    </tr>\n",
       "  </thead>\n",
       "  <tbody>\n",
       "    <tr>\n",
       "      <th>0</th>\n",
       "      <td>p</td>\n",
       "      <td>x</td>\n",
       "      <td>s</td>\n",
       "      <td>n</td>\n",
       "      <td>t</td>\n",
       "      <td>p</td>\n",
       "      <td>f</td>\n",
       "      <td>c</td>\n",
       "      <td>n</td>\n",
       "      <td>k</td>\n",
       "      <td>...</td>\n",
       "      <td>s</td>\n",
       "      <td>w</td>\n",
       "      <td>w</td>\n",
       "      <td>p</td>\n",
       "      <td>w</td>\n",
       "      <td>o</td>\n",
       "      <td>p</td>\n",
       "      <td>k</td>\n",
       "      <td>s</td>\n",
       "      <td>u</td>\n",
       "    </tr>\n",
       "    <tr>\n",
       "      <th>1</th>\n",
       "      <td>e</td>\n",
       "      <td>x</td>\n",
       "      <td>s</td>\n",
       "      <td>y</td>\n",
       "      <td>t</td>\n",
       "      <td>a</td>\n",
       "      <td>f</td>\n",
       "      <td>c</td>\n",
       "      <td>b</td>\n",
       "      <td>k</td>\n",
       "      <td>...</td>\n",
       "      <td>s</td>\n",
       "      <td>w</td>\n",
       "      <td>w</td>\n",
       "      <td>p</td>\n",
       "      <td>w</td>\n",
       "      <td>o</td>\n",
       "      <td>p</td>\n",
       "      <td>n</td>\n",
       "      <td>n</td>\n",
       "      <td>g</td>\n",
       "    </tr>\n",
       "    <tr>\n",
       "      <th>2</th>\n",
       "      <td>e</td>\n",
       "      <td>b</td>\n",
       "      <td>s</td>\n",
       "      <td>w</td>\n",
       "      <td>t</td>\n",
       "      <td>l</td>\n",
       "      <td>f</td>\n",
       "      <td>c</td>\n",
       "      <td>b</td>\n",
       "      <td>n</td>\n",
       "      <td>...</td>\n",
       "      <td>s</td>\n",
       "      <td>w</td>\n",
       "      <td>w</td>\n",
       "      <td>p</td>\n",
       "      <td>w</td>\n",
       "      <td>o</td>\n",
       "      <td>p</td>\n",
       "      <td>n</td>\n",
       "      <td>n</td>\n",
       "      <td>m</td>\n",
       "    </tr>\n",
       "    <tr>\n",
       "      <th>3</th>\n",
       "      <td>p</td>\n",
       "      <td>x</td>\n",
       "      <td>y</td>\n",
       "      <td>w</td>\n",
       "      <td>t</td>\n",
       "      <td>p</td>\n",
       "      <td>f</td>\n",
       "      <td>c</td>\n",
       "      <td>n</td>\n",
       "      <td>n</td>\n",
       "      <td>...</td>\n",
       "      <td>s</td>\n",
       "      <td>w</td>\n",
       "      <td>w</td>\n",
       "      <td>p</td>\n",
       "      <td>w</td>\n",
       "      <td>o</td>\n",
       "      <td>p</td>\n",
       "      <td>k</td>\n",
       "      <td>s</td>\n",
       "      <td>u</td>\n",
       "    </tr>\n",
       "  </tbody>\n",
       "</table>\n",
       "<p>4 rows × 23 columns</p>\n",
       "</div>"
      ],
      "text/plain": [
       "  class cap-shape cap-surface cap-color bruises odor gill-attachment  \\\n",
       "0     p         x           s         n       t    p               f   \n",
       "1     e         x           s         y       t    a               f   \n",
       "2     e         b           s         w       t    l               f   \n",
       "3     p         x           y         w       t    p               f   \n",
       "\n",
       "  gill-spacing gill-size gill-color  ... stalk-surface-below-ring  \\\n",
       "0            c         n          k  ...                        s   \n",
       "1            c         b          k  ...                        s   \n",
       "2            c         b          n  ...                        s   \n",
       "3            c         n          n  ...                        s   \n",
       "\n",
       "  stalk-color-above-ring stalk-color-below-ring veil-type veil-color  \\\n",
       "0                      w                      w         p          w   \n",
       "1                      w                      w         p          w   \n",
       "2                      w                      w         p          w   \n",
       "3                      w                      w         p          w   \n",
       "\n",
       "  ring-number ring-type spore-print-color population habitat  \n",
       "0           o         p                 k          s       u  \n",
       "1           o         p                 n          n       g  \n",
       "2           o         p                 n          n       m  \n",
       "3           o         p                 k          s       u  \n",
       "\n",
       "[4 rows x 23 columns]"
      ]
     },
     "execution_count": 82,
     "metadata": {},
     "output_type": "execute_result"
    }
   ],
   "source": [
    "df = pd.read_csv('./data/mushrooms.csv')\n",
    "df.head(4)"
   ]
  },
  {
   "cell_type": "markdown",
   "id": "b3819bbc-8ff1-4119-b0ce-2059c0949e77",
   "metadata": {},
   "source": [
    "### Gaussian Naive Bayes\n",
    "For this approach I use two methods to convert categorical variables to numerical variables.\n",
    "- LabelEncoder\n",
    "- OneHotEncoder"
   ]
  },
  {
   "cell_type": "code",
   "execution_count": 79,
   "id": "8c0d2090-3dc6-435b-ba45-3a15cf2faf02",
   "metadata": {
    "tags": []
   },
   "outputs": [
    {
     "name": "stdout",
     "output_type": "stream",
     "text": [
      "The precision score is: 0.9039408866995073\n",
      "The confusion matrix is:\n",
      "\n",
      "[[744  78]\n",
      " [ 69 734]]\n"
     ]
    }
   ],
   "source": [
    "model = GaussianNB()\n",
    "\n",
    "y = df['class'].apply(lambda x:1 if x=='e' else 0).values\n",
    "df.drop('class', axis=1, inplace=True)\n",
    "\n",
    "x = df.apply(preprocessing.LabelEncoder().fit_transform)\n",
    "\n",
    "x.head(4)\n",
    "\n",
    "x_train, x_test, y_train, y_test = train_test_split(x, y, test_size = 0.2, random_state=50)\n",
    "\n",
    "y_pred = model.fit(x_train, y_train).predict(x_test)\n",
    "\n",
    "print(f'The precision score is: {precision_score(y_test, y_pred)}')\n",
    "\n",
    "print(f'The confusion matrix is:\\n\\n{confusion_matrix(y_test, y_pred)}')"
   ]
  },
  {
   "cell_type": "code",
   "execution_count": 80,
   "id": "e6373fc5-5a75-48c7-b200-d5882afbabc8",
   "metadata": {
    "tags": []
   },
   "outputs": [
    {
     "name": "stdout",
     "output_type": "stream",
     "text": [
      "The precision score is: 0.8885135135135135\n",
      "The confusion matrix is:\n",
      "\n",
      "[[723  99]\n",
      " [ 14 789]]\n"
     ]
    }
   ],
   "source": [
    "x = OneHotEncoder().fit_transform(df)\n",
    "\n",
    "x_train, x_test, y_train, y_test = train_test_split(x, y, test_size = 0.2, random_state=50)\n",
    "\n",
    "model = BernoulliNB()\n",
    "\n",
    "y_pred = model.fit(x_train, y_train).predict(x_test)\n",
    "\n",
    "print(f'The precision score is: {precision_score(y_test, y_pred)}')\n",
    "\n",
    "print(f'The confusion matrix is:\\n\\n{confusion_matrix(y_test, y_pred)}')"
   ]
  },
  {
   "cell_type": "markdown",
   "id": "ab219679-beb1-4c29-97e2-a44ccccf2f1b",
   "metadata": {},
   "source": [
    "## Bernoulli Naive Bayes"
   ]
  },
  {
   "cell_type": "code",
   "execution_count": 83,
   "id": "cc0db7ff-c396-4093-afbb-09290821e019",
   "metadata": {
    "tags": []
   },
   "outputs": [
    {
     "name": "stdout",
     "output_type": "stream",
     "text": [
      "The precision score is: 0.7614770459081837\n",
      "The confusion matrix is:\n",
      "\n",
      "[[583 239]\n",
      " [ 40 763]]\n"
     ]
    }
   ],
   "source": [
    "model = BernoulliNB()\n",
    "\n",
    "y = df['class'].apply(lambda x:1 if x=='e' else 0).values\n",
    "df.drop('class', axis=1, inplace=True)\n",
    "\n",
    "x = df.apply(preprocessing.LabelEncoder().fit_transform)\n",
    "\n",
    "x.head(4)\n",
    "\n",
    "x_train, x_test, y_train, y_test = train_test_split(x, y, test_size = 0.2, random_state=50)\n",
    "\n",
    "y_pred = model.fit(x_train, y_train).predict(x_test)\n",
    "\n",
    "print(f'The precision score is: {precision_score(y_test, y_pred)}')\n",
    "\n",
    "print(f'The confusion matrix is:\\n\\n{confusion_matrix(y_test, y_pred)}')"
   ]
  },
  {
   "cell_type": "code",
   "execution_count": 84,
   "id": "1f4b1183-f00a-4720-88c9-9a419451d569",
   "metadata": {
    "tags": []
   },
   "outputs": [
    {
     "name": "stdout",
     "output_type": "stream",
     "text": [
      "The precision score is: 0.8885135135135135\n",
      "The confusion matrix is:\n",
      "\n",
      "[[723  99]\n",
      " [ 14 789]]\n"
     ]
    }
   ],
   "source": [
    "x = OneHotEncoder().fit_transform(df)\n",
    "\n",
    "x_train, x_test, y_train, y_test = train_test_split(x, y, test_size = 0.2, random_state=50)\n",
    "\n",
    "model = BernoulliNB()\n",
    "\n",
    "y_pred = model.fit(x_train, y_train).predict(x_test)\n",
    "\n",
    "print(f'The precision score is: {precision_score(y_test, y_pred)}')\n",
    "\n",
    "print(f'The confusion matrix is:\\n\\n{confusion_matrix(y_test, y_pred)}')"
   ]
  }
 ],
 "metadata": {
  "kernelspec": {
   "display_name": "Python 3 (ipykernel)",
   "language": "python",
   "name": "python3"
  },
  "language_info": {
   "codemirror_mode": {
    "name": "ipython",
    "version": 3
   },
   "file_extension": ".py",
   "mimetype": "text/x-python",
   "name": "python",
   "nbconvert_exporter": "python",
   "pygments_lexer": "ipython3",
   "version": "3.10.6"
  }
 },
 "nbformat": 4,
 "nbformat_minor": 5
}
