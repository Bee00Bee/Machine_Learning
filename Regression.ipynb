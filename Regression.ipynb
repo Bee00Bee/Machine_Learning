{
 "cells": [
  {
   "cell_type": "markdown",
   "id": "b4252661",
   "metadata": {},
   "source": [
    "# Regression\n",
    "\n",
    "In this notebook I talk about *Regression*. *Regression* is a statistical technique to understand the relationship between independent and *dependent* variables. \n",
    "\n",
    "There are different types of *Regression* such as:\n",
    "\n",
    "* Simple Linear Regression\n",
    "* Multiple Linear Regression\n",
    "* Polynomial and Spline Regression\n",
    "* Nonlinear Regression\n",
    "\n",
    "Let's start with *Simple Linear Regression*"
   ]
  },
  {
   "cell_type": "markdown",
   "id": "e6076b37",
   "metadata": {},
   "source": [
    "### Simple Linear Regression (SLR)\n",
    "When the relationship between the dependent and an independent variable is linear this concept comes into the play. This relationship can be expressed as:\n",
    "\n",
    "$Y$ = $\\beta_0$ + $\\beta_1$.$X$\n",
    "where $X$ is the independent variable and $Y$ is the dependent one. The $\\beta_0$ is the intercept and $\\beta_1$ is the slope or *Regression coeifficient*. Any $Y_i$ from the fit is the *Fitted value* and the dffierene between the real value and $Y_i$ is *residual*. The one of the methods of fitting is to minimize the *Least square* error. The *Least square* error is the sum of squared errors of the fit. \n",
    "\n",
    "Now let's work on the *SLR*:"
   ]
  },
  {
   "cell_type": "code",
   "execution_count": 1,
   "id": "03fdd72a",
   "metadata": {},
   "outputs": [
    {
     "name": "stdout",
     "output_type": "stream",
     "text": [
      "The intercept is:  20.0\n",
      "The slope is:  [1. 2.]\n"
     ]
    }
   ],
   "source": [
    "import numpy as np\n",
    "from sklearn.linear_model import LinearRegression\n",
    "\n",
    "X = np.array([[1, 1], [1, 2], [2, 2], [2, 3]])\n",
    "\n",
    "# here :\n",
    "#    y = 1*X_0 + 2*X_1 + 20\n",
    "y = np.dot(X, np.array([1,2])) + 20\n",
    "\n",
    "reg = LinearRegression().fit(X, y)\n",
    "\n",
    "print('The intercept is: ', reg.intercept_)\n",
    "print('The slope is: ', reg.coef_)"
   ]
  },
  {
   "cell_type": "markdown",
   "id": "3e637616",
   "metadata": {},
   "source": [
    "Let's do prediction:"
   ]
  },
  {
   "cell_type": "code",
   "execution_count": 2,
   "id": "f9c8dbb4",
   "metadata": {},
   "outputs": [
    {
     "data": {
      "text/plain": [
       "array([31.])"
      ]
     },
     "execution_count": 2,
     "metadata": {},
     "output_type": "execute_result"
    }
   ],
   "source": [
    "reg.predict(np.array([[3,4]]))"
   ]
  },
  {
   "cell_type": "code",
   "execution_count": 3,
   "id": "12357c6d",
   "metadata": {},
   "outputs": [
    {
     "data": {
      "text/plain": [
       "array([23., 25., 26., 28.])"
      ]
     },
     "execution_count": 3,
     "metadata": {},
     "output_type": "execute_result"
    }
   ],
   "source": [
    "reg.predict(X)"
   ]
  },
  {
   "cell_type": "markdown",
   "id": "ab3ef4bb",
   "metadata": {},
   "source": [
    "### Multiple Linear Regression (MLR)\n",
    "In this case there are multiple independent variables.\n",
    "\n",
    "$Y$ = $\\beta_0$ + $\\beta_1$.$X_1$ + $\\beta_2$.$X_2$ + .... + $\\beta_n$.$X_n$ + $\\epsilon$\n",
    "\n",
    "The goal is to create a linear relationship between $X_i$ and $Y$. In the equation above the $\\epsilon$ is the model's error term.\n",
    "\n",
    "To work on the *MLR*, I use the dataset below:"
   ]
  },
  {
   "cell_type": "code",
   "execution_count": 4,
   "id": "70789b44",
   "metadata": {},
   "outputs": [],
   "source": [
    "import pandas as pd\n",
    "\n",
    "Stock_Market = {'Year': [2017,2017,2017,2017,2017,2017,2017,2017,2017,2017,2017,2017,2016,2016,2016,2016,2016,2016,2016,2016,2016,2016,2016,2016],\n",
    "                'Month': [12, 11,10,9,8,7,6,5,4,3,2,1,12,11,10,9,8,7,6,5,4,3,2,1],\n",
    "                'Interest_Rate': [2.75,2.5,2.5,2.5,2.5,2.5,2.5,2.25,2.25,2.25,2,2,2,1.75,1.75,1.75,1.75,1.75,1.75,1.75,1.75,1.75,1.75,1.75],\n",
    "                'Unemployment_Rate': [5.3,5.3,5.3,5.3,5.4,5.6,5.5,5.5,5.5,5.6,5.7,5.9,6,5.9,5.8,6.1,6.2,6.1,6.1,6.1,5.9,6.2,6.2,6.1],\n",
    "                'Stock_Index_Price': [1464,1394,1357,1293,1256,1254,1234,1195,1159,1167,1130,1075,1047,965,943,958,971,949,884,866,876,822,704,719]        \n",
    "                }\n",
    " \n",
    "df = pd.DataFrame(Stock_Market,columns=['Year','Month','Interest_Rate','Unemployment_Rate','Stock_Index_Price'])"
   ]
  },
  {
   "cell_type": "code",
   "execution_count": 5,
   "id": "9017ccd6",
   "metadata": {},
   "outputs": [
    {
     "data": {
      "text/html": [
       "<div>\n",
       "<style scoped>\n",
       "    .dataframe tbody tr th:only-of-type {\n",
       "        vertical-align: middle;\n",
       "    }\n",
       "\n",
       "    .dataframe tbody tr th {\n",
       "        vertical-align: top;\n",
       "    }\n",
       "\n",
       "    .dataframe thead th {\n",
       "        text-align: right;\n",
       "    }\n",
       "</style>\n",
       "<table border=\"1\" class=\"dataframe\">\n",
       "  <thead>\n",
       "    <tr style=\"text-align: right;\">\n",
       "      <th></th>\n",
       "      <th>Year</th>\n",
       "      <th>Month</th>\n",
       "      <th>Interest_Rate</th>\n",
       "      <th>Unemployment_Rate</th>\n",
       "      <th>Stock_Index_Price</th>\n",
       "    </tr>\n",
       "  </thead>\n",
       "  <tbody>\n",
       "    <tr>\n",
       "      <th>0</th>\n",
       "      <td>2017</td>\n",
       "      <td>12</td>\n",
       "      <td>2.75</td>\n",
       "      <td>5.3</td>\n",
       "      <td>1464</td>\n",
       "    </tr>\n",
       "    <tr>\n",
       "      <th>1</th>\n",
       "      <td>2017</td>\n",
       "      <td>11</td>\n",
       "      <td>2.50</td>\n",
       "      <td>5.3</td>\n",
       "      <td>1394</td>\n",
       "    </tr>\n",
       "    <tr>\n",
       "      <th>2</th>\n",
       "      <td>2017</td>\n",
       "      <td>10</td>\n",
       "      <td>2.50</td>\n",
       "      <td>5.3</td>\n",
       "      <td>1357</td>\n",
       "    </tr>\n",
       "    <tr>\n",
       "      <th>3</th>\n",
       "      <td>2017</td>\n",
       "      <td>9</td>\n",
       "      <td>2.50</td>\n",
       "      <td>5.3</td>\n",
       "      <td>1293</td>\n",
       "    </tr>\n",
       "    <tr>\n",
       "      <th>4</th>\n",
       "      <td>2017</td>\n",
       "      <td>8</td>\n",
       "      <td>2.50</td>\n",
       "      <td>5.4</td>\n",
       "      <td>1256</td>\n",
       "    </tr>\n",
       "  </tbody>\n",
       "</table>\n",
       "</div>"
      ],
      "text/plain": [
       "   Year  Month  Interest_Rate  Unemployment_Rate  Stock_Index_Price\n",
       "0  2017     12           2.75                5.3               1464\n",
       "1  2017     11           2.50                5.3               1394\n",
       "2  2017     10           2.50                5.3               1357\n",
       "3  2017      9           2.50                5.3               1293\n",
       "4  2017      8           2.50                5.4               1256"
      ]
     },
     "execution_count": 5,
     "metadata": {},
     "output_type": "execute_result"
    }
   ],
   "source": [
    "df.head(5)"
   ]
  },
  {
   "cell_type": "markdown",
   "id": "855b8b67",
   "metadata": {},
   "source": [
    "Let's choose the independet varialbels and the dependent variable for our modeling purpose.\n"
   ]
  },
  {
   "cell_type": "code",
   "execution_count": 6,
   "id": "ab31101d",
   "metadata": {},
   "outputs": [],
   "source": [
    "X = df[['Interest_Rate','Unemployment_Rate']].values\n",
    "Y = df[['Stock_Index_Price']].values"
   ]
  },
  {
   "cell_type": "markdown",
   "id": "ba83469a",
   "metadata": {},
   "source": [
    "so we have this relationship between $Y$ and $X_i$\n",
    "\n",
    "$Y$ = $\\beta_0$ + $\\beta_1$.$X_{InterestRate}$ + $\\beta_2$.$X_{UnemploymentRate}$ + $\\epsilon$"
   ]
  },
  {
   "cell_type": "code",
   "execution_count": 7,
   "id": "ca9b8f81",
   "metadata": {},
   "outputs": [],
   "source": [
    "reg = LinearRegression().fit(X, Y)"
   ]
  },
  {
   "cell_type": "code",
   "execution_count": 8,
   "id": "9116ec91",
   "metadata": {},
   "outputs": [
    {
     "name": "stdout",
     "output_type": "stream",
     "text": [
      "The intercept is:  [1798.40397763]\n",
      "The slope is:  [[ 345.54008701 -250.14657137]]\n"
     ]
    }
   ],
   "source": [
    "print('The intercept is: ', reg.intercept_)\n",
    "print('The slope is: ', reg.coef_)"
   ]
  },
  {
   "cell_type": "markdown",
   "id": "1e30eec0",
   "metadata": {},
   "source": [
    "therefore the fit parameters are:\n",
    "\n",
    "$\\beta_0$ = 1798.40\n",
    "\n",
    "$\\beta_1$ = 345.54\n",
    "\n",
    "$\\beta_2$ = -250.15"
   ]
  },
  {
   "cell_type": "markdown",
   "id": "35bdf564",
   "metadata": {},
   "source": [
    "Let's do prediction"
   ]
  },
  {
   "cell_type": "code",
   "execution_count": 11,
   "id": "df311a9d",
   "metadata": {},
   "outputs": [
    {
     "name": "stdout",
     "output_type": "stream",
     "text": [
      "prediction for the intereste:  3  and Unemployment rate:  5  is  1584.291381810649\n"
     ]
    }
   ],
   "source": [
    "X_interest = 3\n",
    "X_unemployment_rate = 5\n",
    "\n",
    "print('prediction for the intereste: ',X_interest,' and Unemployment rate: ', X_unemployment_rate,' is ',reg.predict([[X_interest ,X_unemployment_rate]])[0][0] )"
   ]
  },
  {
   "cell_type": "code",
   "execution_count": 12,
   "id": "3e074434",
   "metadata": {},
   "outputs": [],
   "source": [
    "import statsmodels.api as sm"
   ]
  },
  {
   "cell_type": "markdown",
   "id": "a77bc6e9",
   "metadata": {},
   "source": [
    "What about the statistical values of the model"
   ]
  },
  {
   "cell_type": "code",
   "execution_count": 13,
   "id": "32f1e866",
   "metadata": {},
   "outputs": [
    {
     "name": "stdout",
     "output_type": "stream",
     "text": [
      "                            OLS Regression Results                            \n",
      "==============================================================================\n",
      "Dep. Variable:                      y   R-squared:                       0.898\n",
      "Model:                            OLS   Adj. R-squared:                  0.888\n",
      "Method:                 Least Squares   F-statistic:                     92.07\n",
      "Date:                Mon, 31 Jan 2022   Prob (F-statistic):           4.04e-11\n",
      "Time:                        20:05:53   Log-Likelihood:                -134.61\n",
      "No. Observations:                  24   AIC:                             275.2\n",
      "Df Residuals:                      21   BIC:                             278.8\n",
      "Df Model:                           2                                         \n",
      "Covariance Type:            nonrobust                                         \n",
      "==============================================================================\n",
      "                 coef    std err          t      P>|t|      [0.025      0.975]\n",
      "------------------------------------------------------------------------------\n",
      "const       1798.4040    899.248      2.000      0.059     -71.685    3668.493\n",
      "x1           345.5401    111.367      3.103      0.005     113.940     577.140\n",
      "x2          -250.1466    117.950     -2.121      0.046    -495.437      -4.856\n",
      "==============================================================================\n",
      "Omnibus:                        2.691   Durbin-Watson:                   0.530\n",
      "Prob(Omnibus):                  0.260   Jarque-Bera (JB):                1.551\n",
      "Skew:                          -0.612   Prob(JB):                        0.461\n",
      "Kurtosis:                       3.226   Cond. No.                         394.\n",
      "==============================================================================\n",
      "\n",
      "Notes:\n",
      "[1] Standard Errors assume that the covariance matrix of the errors is correctly specified.\n"
     ]
    }
   ],
   "source": [
    "X = sm.add_constant(X)\n",
    "model = sm.OLS(Y, X).fit()\n",
    "predictions = model.predict(X) \n",
    " \n",
    "print_model = model.summary()\n",
    "print(print_model)"
   ]
  },
  {
   "cell_type": "markdown",
   "id": "7ad7d70e",
   "metadata": {},
   "source": [
    "### Weighted Regression\n",
    "\n",
    "This models is used when different observations measured with different precisions. If one observation has higher variance it gets a lower weight. "
   ]
  },
  {
   "cell_type": "code",
   "execution_count": 14,
   "id": "5faa8e3a",
   "metadata": {},
   "outputs": [
    {
     "name": "stdout",
     "output_type": "stream",
     "text": [
      "The feature names of the dataset are:\n",
      " ['MedInc', 'HouseAge', 'AveRooms', 'AveBedrms', 'Population', 'AveOccup', 'Latitude', 'Longitude']\n",
      "\n",
      "The target name of the dataset is:\n",
      " ['MedHouseVal']\n",
      "\n",
      "Here is the dataframe of the dataset:\n",
      "\n"
     ]
    },
    {
     "data": {
      "text/html": [
       "<div>\n",
       "<style scoped>\n",
       "    .dataframe tbody tr th:only-of-type {\n",
       "        vertical-align: middle;\n",
       "    }\n",
       "\n",
       "    .dataframe tbody tr th {\n",
       "        vertical-align: top;\n",
       "    }\n",
       "\n",
       "    .dataframe thead th {\n",
       "        text-align: right;\n",
       "    }\n",
       "</style>\n",
       "<table border=\"1\" class=\"dataframe\">\n",
       "  <thead>\n",
       "    <tr style=\"text-align: right;\">\n",
       "      <th></th>\n",
       "      <th>MedInc</th>\n",
       "      <th>HouseAge</th>\n",
       "      <th>AveRooms</th>\n",
       "      <th>AveBedrms</th>\n",
       "      <th>Population</th>\n",
       "      <th>AveOccup</th>\n",
       "      <th>Latitude</th>\n",
       "      <th>Longitude</th>\n",
       "      <th>MedHouseVal</th>\n",
       "    </tr>\n",
       "  </thead>\n",
       "  <tbody>\n",
       "    <tr>\n",
       "      <th>0</th>\n",
       "      <td>8.3252</td>\n",
       "      <td>41.0</td>\n",
       "      <td>6.984127</td>\n",
       "      <td>1.023810</td>\n",
       "      <td>322.0</td>\n",
       "      <td>2.555556</td>\n",
       "      <td>37.88</td>\n",
       "      <td>-122.23</td>\n",
       "      <td>4.526</td>\n",
       "    </tr>\n",
       "    <tr>\n",
       "      <th>1</th>\n",
       "      <td>8.3014</td>\n",
       "      <td>21.0</td>\n",
       "      <td>6.238137</td>\n",
       "      <td>0.971880</td>\n",
       "      <td>2401.0</td>\n",
       "      <td>2.109842</td>\n",
       "      <td>37.86</td>\n",
       "      <td>-122.22</td>\n",
       "      <td>3.585</td>\n",
       "    </tr>\n",
       "    <tr>\n",
       "      <th>2</th>\n",
       "      <td>7.2574</td>\n",
       "      <td>52.0</td>\n",
       "      <td>8.288136</td>\n",
       "      <td>1.073446</td>\n",
       "      <td>496.0</td>\n",
       "      <td>2.802260</td>\n",
       "      <td>37.85</td>\n",
       "      <td>-122.24</td>\n",
       "      <td>3.521</td>\n",
       "    </tr>\n",
       "    <tr>\n",
       "      <th>3</th>\n",
       "      <td>5.6431</td>\n",
       "      <td>52.0</td>\n",
       "      <td>5.817352</td>\n",
       "      <td>1.073059</td>\n",
       "      <td>558.0</td>\n",
       "      <td>2.547945</td>\n",
       "      <td>37.85</td>\n",
       "      <td>-122.25</td>\n",
       "      <td>3.413</td>\n",
       "    </tr>\n",
       "    <tr>\n",
       "      <th>4</th>\n",
       "      <td>3.8462</td>\n",
       "      <td>52.0</td>\n",
       "      <td>6.281853</td>\n",
       "      <td>1.081081</td>\n",
       "      <td>565.0</td>\n",
       "      <td>2.181467</td>\n",
       "      <td>37.85</td>\n",
       "      <td>-122.25</td>\n",
       "      <td>3.422</td>\n",
       "    </tr>\n",
       "    <tr>\n",
       "      <th>...</th>\n",
       "      <td>...</td>\n",
       "      <td>...</td>\n",
       "      <td>...</td>\n",
       "      <td>...</td>\n",
       "      <td>...</td>\n",
       "      <td>...</td>\n",
       "      <td>...</td>\n",
       "      <td>...</td>\n",
       "      <td>...</td>\n",
       "    </tr>\n",
       "    <tr>\n",
       "      <th>20635</th>\n",
       "      <td>1.5603</td>\n",
       "      <td>25.0</td>\n",
       "      <td>5.045455</td>\n",
       "      <td>1.133333</td>\n",
       "      <td>845.0</td>\n",
       "      <td>2.560606</td>\n",
       "      <td>39.48</td>\n",
       "      <td>-121.09</td>\n",
       "      <td>0.781</td>\n",
       "    </tr>\n",
       "    <tr>\n",
       "      <th>20636</th>\n",
       "      <td>2.5568</td>\n",
       "      <td>18.0</td>\n",
       "      <td>6.114035</td>\n",
       "      <td>1.315789</td>\n",
       "      <td>356.0</td>\n",
       "      <td>3.122807</td>\n",
       "      <td>39.49</td>\n",
       "      <td>-121.21</td>\n",
       "      <td>0.771</td>\n",
       "    </tr>\n",
       "    <tr>\n",
       "      <th>20637</th>\n",
       "      <td>1.7000</td>\n",
       "      <td>17.0</td>\n",
       "      <td>5.205543</td>\n",
       "      <td>1.120092</td>\n",
       "      <td>1007.0</td>\n",
       "      <td>2.325635</td>\n",
       "      <td>39.43</td>\n",
       "      <td>-121.22</td>\n",
       "      <td>0.923</td>\n",
       "    </tr>\n",
       "    <tr>\n",
       "      <th>20638</th>\n",
       "      <td>1.8672</td>\n",
       "      <td>18.0</td>\n",
       "      <td>5.329513</td>\n",
       "      <td>1.171920</td>\n",
       "      <td>741.0</td>\n",
       "      <td>2.123209</td>\n",
       "      <td>39.43</td>\n",
       "      <td>-121.32</td>\n",
       "      <td>0.847</td>\n",
       "    </tr>\n",
       "    <tr>\n",
       "      <th>20639</th>\n",
       "      <td>2.3886</td>\n",
       "      <td>16.0</td>\n",
       "      <td>5.254717</td>\n",
       "      <td>1.162264</td>\n",
       "      <td>1387.0</td>\n",
       "      <td>2.616981</td>\n",
       "      <td>39.37</td>\n",
       "      <td>-121.24</td>\n",
       "      <td>0.894</td>\n",
       "    </tr>\n",
       "  </tbody>\n",
       "</table>\n",
       "<p>20640 rows × 9 columns</p>\n",
       "</div>"
      ],
      "text/plain": [
       "       MedInc  HouseAge  AveRooms  AveBedrms  Population  AveOccup  Latitude  \\\n",
       "0      8.3252      41.0  6.984127   1.023810       322.0  2.555556     37.88   \n",
       "1      8.3014      21.0  6.238137   0.971880      2401.0  2.109842     37.86   \n",
       "2      7.2574      52.0  8.288136   1.073446       496.0  2.802260     37.85   \n",
       "3      5.6431      52.0  5.817352   1.073059       558.0  2.547945     37.85   \n",
       "4      3.8462      52.0  6.281853   1.081081       565.0  2.181467     37.85   \n",
       "...       ...       ...       ...        ...         ...       ...       ...   \n",
       "20635  1.5603      25.0  5.045455   1.133333       845.0  2.560606     39.48   \n",
       "20636  2.5568      18.0  6.114035   1.315789       356.0  3.122807     39.49   \n",
       "20637  1.7000      17.0  5.205543   1.120092      1007.0  2.325635     39.43   \n",
       "20638  1.8672      18.0  5.329513   1.171920       741.0  2.123209     39.43   \n",
       "20639  2.3886      16.0  5.254717   1.162264      1387.0  2.616981     39.37   \n",
       "\n",
       "       Longitude  MedHouseVal  \n",
       "0        -122.23        4.526  \n",
       "1        -122.22        3.585  \n",
       "2        -122.24        3.521  \n",
       "3        -122.25        3.413  \n",
       "4        -122.25        3.422  \n",
       "...          ...          ...  \n",
       "20635    -121.09        0.781  \n",
       "20636    -121.21        0.771  \n",
       "20637    -121.22        0.923  \n",
       "20638    -121.32        0.847  \n",
       "20639    -121.24        0.894  \n",
       "\n",
       "[20640 rows x 9 columns]"
      ]
     },
     "execution_count": 14,
     "metadata": {},
     "output_type": "execute_result"
    }
   ],
   "source": [
    "from sklearn import datasets\n",
    "\n",
    "\n",
    "california = datasets.fetch_california_housing()\n",
    "\n",
    "print(\"The feature names of the dataset are:\\n\",california.feature_names)\n",
    "print(\"\\nThe target name of the dataset is:\\n\",california.target_names)\n",
    "\n",
    "df_calif_data = pd.DataFrame(california.data)\n",
    "df_calif_target = pd.DataFrame(california.target)\n",
    "\n",
    "df_calif_data = df_calif_data.rename(columns={0:'MedInc', 1:'HouseAge', 2:'AveRooms', 3:'AveBedrms', 4:'Population',\n",
    "                                 5:'AveOccup',6:'Latitude', 7:'Longitude'})\n",
    "\n",
    "df_calif_target = df_calif_target.rename(columns={0:\"MedHouseVal\"})\n",
    "\n",
    "df_data = pd.concat([df_calif_data, df_calif_target],axis=1)\n",
    "\n",
    "print('\\nHere is the dataframe of the dataset:\\n')\n",
    "df_data"
   ]
  },
  {
   "cell_type": "code",
   "execution_count": 13,
   "id": "2daffcdd",
   "metadata": {},
   "outputs": [],
   "source": [
    "import statsmodels.api as sm"
   ]
  },
  {
   "cell_type": "code",
   "execution_count": 14,
   "id": "fee87366",
   "metadata": {},
   "outputs": [],
   "source": [
    "Y=df_data['MedHouseVal']\n",
    "X=df_data.drop(['MedHouseVal'], axis=1)"
   ]
  },
  {
   "cell_type": "code",
   "execution_count": 15,
   "id": "1bf0cbc2",
   "metadata": {},
   "outputs": [
    {
     "name": "stdout",
     "output_type": "stream",
     "text": [
      "                                 WLS Regression Results                                \n",
      "=======================================================================================\n",
      "Dep. Variable:            MedHouseVal   R-squared (uncentered):                   0.892\n",
      "Model:                            WLS   Adj. R-squared (uncentered):              0.892\n",
      "Method:                 Least Squares   F-statistic:                          2.137e+04\n",
      "Date:                Fri, 28 Jan 2022   Prob (F-statistic):                        0.00\n",
      "Time:                        10:16:25   Log-Likelihood:                         -24087.\n",
      "No. Observations:               20640   AIC:                                  4.819e+04\n",
      "Df Residuals:                   20632   BIC:                                  4.825e+04\n",
      "Df Model:                           8                                                  \n",
      "Covariance Type:            nonrobust                                                  \n",
      "==============================================================================\n",
      "                 coef    std err          t      P>|t|      [0.025      0.975]\n",
      "------------------------------------------------------------------------------\n",
      "MedInc         0.5135      0.004    120.594      0.000       0.505       0.522\n",
      "HouseAge       0.0157      0.000     33.727      0.000       0.015       0.017\n",
      "AveRooms      -0.1825      0.006    -29.673      0.000      -0.195      -0.170\n",
      "AveBedrms      0.8651      0.030     28.927      0.000       0.806       0.924\n",
      "Population  7.792e-06   5.09e-06      1.530      0.126   -2.19e-06    1.78e-05\n",
      "AveOccup      -0.0047      0.001     -8.987      0.000      -0.006      -0.004\n",
      "Latitude      -0.0639      0.004    -17.826      0.000      -0.071      -0.057\n",
      "Longitude     -0.0164      0.001    -14.381      0.000      -0.019      -0.014\n",
      "==============================================================================\n",
      "Omnibus:                     4353.392   Durbin-Watson:                   0.909\n",
      "Prob(Omnibus):                  0.000   Jarque-Bera (JB):            14087.489\n",
      "Skew:                           1.069   Prob(JB):                         0.00\n",
      "Kurtosis:                       6.436   Cond. No.                     1.03e+04\n",
      "==============================================================================\n",
      "\n",
      "Notes:\n",
      "[1] R² is computed without centering (uncentered) since the model does not contain a constant.\n",
      "[2] Standard Errors assume that the covariance matrix of the errors is correctly specified.\n",
      "[3] The condition number is large, 1.03e+04. This might indicate that there are\n",
      "strong multicollinearity or other numerical problems.\n"
     ]
    }
   ],
   "source": [
    "wls_model = sm.WLS(Y,X)\n",
    "results = wls_model.fit()\n",
    "print(results.summary())"
   ]
  },
  {
   "cell_type": "markdown",
   "id": "6ce68929",
   "metadata": {},
   "source": [
    "### Logistic Regression\n",
    "This models is used to predict the probability of binary classes such as heads/tails, loose/win and spam/not spam etc. This method is also used in multiclass calssification."
   ]
  },
  {
   "cell_type": "code",
   "execution_count": 18,
   "id": "ebc95bb0",
   "metadata": {},
   "outputs": [],
   "source": [
    "import numpy as np\n",
    "from sklearn import preprocessing\n",
    "import matplotlib.pyplot as plt \n",
    "from sklearn.linear_model import LogisticRegression\n",
    "from sklearn.model_selection import train_test_split\n",
    "import seaborn as sns"
   ]
  },
  {
   "cell_type": "markdown",
   "id": "bcd09c0f",
   "metadata": {},
   "source": [
    "Let's load the dataset here:"
   ]
  },
  {
   "cell_type": "code",
   "execution_count": 17,
   "id": "e45d2e74",
   "metadata": {},
   "outputs": [],
   "source": [
    "from sklearn.datasets import load_digits\n",
    "digits = load_digits()"
   ]
  },
  {
   "cell_type": "code",
   "execution_count": 18,
   "id": "f236d5c8",
   "metadata": {},
   "outputs": [
    {
     "data": {
      "image/png": "[encoded data removed]",
      "text/plain": [
       "<Figure size 1440x288 with 10 Axes>"
      ]
     },
     "metadata": {
      "needs_background": "light"
     },
     "output_type": "display_data"
    }
   ],
   "source": [
    "plt.figure(figsize=(20,4))\n",
    "for index, (image, label) in enumerate(zip(digits.data[0:10], digits.target[0:10])):\n",
    " plt.subplot(2, 5, index + 1)\n",
    " plt.imshow(np.reshape(image, (8,8)), cmap=plt.cm.gray)\n",
    " plt.title('Training: %i\\n' % label, fontsize = 20)"
   ]
  },
  {
   "cell_type": "code",
   "execution_count": 19,
   "id": "2e0871a9",
   "metadata": {},
   "outputs": [],
   "source": [
    "from sklearn.model_selection import train_test_split\n",
    "x_train, x_test, y_train, y_test = train_test_split(digits.data, digits.target, test_size=0.2, random_state=10)"
   ]
  },
  {
   "cell_type": "code",
   "execution_count": 20,
   "id": "1dc23aba",
   "metadata": {},
   "outputs": [
    {
     "data": {
      "text/plain": [
       "LogisticRegression(solver='liblinear')"
      ]
     },
     "execution_count": 20,
     "metadata": {},
     "output_type": "execute_result"
    }
   ],
   "source": [
    "LR = LogisticRegression(solver='liblinear', max_iter=100)\n",
    "LR.fit(x_train, y_train)"
   ]
  },
  {
   "cell_type": "markdown",
   "id": "fcef1c5f",
   "metadata": {},
   "source": [
    "Now let's make predictions:"
   ]
  },
  {
   "cell_type": "code",
   "execution_count": 21,
   "id": "244634fe",
   "metadata": {},
   "outputs": [
    {
     "data": {
      "text/plain": [
       "array([5, 2, 5, 4, 1, 2, 4, 3, 3, 0, 8, 7, 0, 1, 8, 6, 9, 7, 9, 7, 1, 8,\n",
       "       6, 7, 8, 8, 5, 2, 5, 9, 3, 3, 7, 3, 4, 1, 9, 2, 5, 4, 2, 1, 0, 9,\n",
       "       2, 3, 6, 1, 9, 4, 4, 5, 8, 4, 8, 5, 9, 7, 1, 0, 4, 5, 8, 4, 7, 9,\n",
       "       0, 7, 8, 3, 9, 3, 3, 8, 0, 7, 3, 6, 5, 2, 0, 8, 8, 0, 1, 1, 2, 8,\n",
       "       8, 8, 2, 6, 3, 4, 7, 9, 8, 2, 9, 2, 5, 0, 8, 0, 4, 8, 8, 0, 6, 7,\n",
       "       3, 3, 9, 1, 5, 4, 6, 0, 8, 8, 1, 1, 7, 9, 8, 5, 2, 3, 3, 8, 7, 6,\n",
       "       2, 5, 4, 3, 3, 7, 6, 7, 2, 7, 4, 9, 5, 1, 9, 1, 6, 1, 1, 1, 4, 0,\n",
       "       8, 9, 1, 2, 3, 5, 0, 3, 4, 1, 5, 4, 9, 3, 5, 6, 4, 0, 8, 6, 7, 0,\n",
       "       9, 9, 4, 7, 3, 5, 2, 0, 6, 7, 5, 3, 8, 7, 1, 3, 2, 8, 3, 3, 1, 7,\n",
       "       1, 1, 1, 7, 1, 6, 7, 6, 9, 5, 2, 3, 5, 2, 9, 5, 4, 8, 2, 9, 1, 5,\n",
       "       0, 2, 3, 9, 0, 2, 0, 2, 1, 0, 5, 0, 6, 4, 2, 1, 9, 0, 9, 0, 6, 9,\n",
       "       4, 4, 9, 4, 5, 6, 1, 8, 7, 0, 8, 6, 2, 0, 1, 2, 3, 8, 4, 4, 3, 5,\n",
       "       7, 9, 7, 2, 0, 2, 0, 9, 2, 8, 6, 3, 6, 0, 6, 6, 6, 7, 1, 6, 1, 7,\n",
       "       6, 0, 6, 3, 7, 1, 6, 2, 2, 0, 8, 4, 7, 3, 3, 0, 0, 2, 3, 9, 7, 4,\n",
       "       6, 7, 9, 7, 6, 0, 5, 6, 2, 7, 1, 0, 1, 8, 6, 4, 7, 2, 5, 1, 4, 6,\n",
       "       6, 5, 0, 2, 9, 8, 7, 9, 6, 7, 0, 8, 3, 5, 9, 4, 1, 5, 5, 4, 7, 3,\n",
       "       9, 2, 7, 3, 3, 6, 6, 3])"
      ]
     },
     "execution_count": 21,
     "metadata": {},
     "output_type": "execute_result"
    }
   ],
   "source": [
    "predictions = LR.predict(x_test)\n",
    "predictions"
   ]
  },
  {
   "cell_type": "code",
   "execution_count": 22,
   "id": "6e0a0619",
   "metadata": {},
   "outputs": [
    {
     "name": "stdout",
     "output_type": "stream",
     "text": [
      "The score is:  95.83333333333334 %\n"
     ]
    }
   ],
   "source": [
    "score = LR.score(x_test, y_test)\n",
    "print('The score is: ', score*100, '%')"
   ]
  },
  {
   "cell_type": "markdown",
   "id": "56b7d897",
   "metadata": {},
   "source": [
    "Let's print out the confusion matrix:"
   ]
  },
  {
   "cell_type": "code",
   "execution_count": 23,
   "id": "9891e192",
   "metadata": {},
   "outputs": [
    {
     "name": "stdout",
     "output_type": "stream",
     "text": [
      "[[37  0  0  0  0  0  0  0  0  0]\n",
      " [ 0 32  0  0  0  0  0  0  2  0]\n",
      " [ 0  0 34  0  0  0  0  0  0  0]\n",
      " [ 0  0  1 39  0  0  0  0  0  0]\n",
      " [ 0  2  0  0 31  0  0  0  1  0]\n",
      " [ 0  1  0  0  0 31  0  0  0  0]\n",
      " [ 0  0  0  0  0  0 37  0  0  0]\n",
      " [ 0  0  0  0  1  0  0 39  0  0]\n",
      " [ 0  2  1  0  0  0  0  0 30  0]\n",
      " [ 0  0  0  0  0  1  0  0  3 35]]\n"
     ]
    }
   ],
   "source": [
    "from sklearn import metrics\n",
    "confusion_matrix = metrics.confusion_matrix(y_test, predictions)\n",
    "print(confusion_matrix)"
   ]
  },
  {
   "cell_type": "markdown",
   "id": "419e4f4b",
   "metadata": {},
   "source": [
    "### Polynomial Regression\n",
    "\n",
    "In this kind of regression the relationship between the dependent and an independent variable is as *n*th degree of freedom."
   ]
  },
  {
   "cell_type": "code",
   "execution_count": 24,
   "id": "f07a1c68",
   "metadata": {},
   "outputs": [
    {
     "data": {
      "text/plain": [
       "[<matplotlib.lines.Line2D at 0x7f698aa55070>]"
      ]
     },
     "execution_count": 24,
     "metadata": {},
     "output_type": "execute_result"
    },
    {
     "data": {
      "image/png": "[encoded data removed]",
      "text/plain": [
       "<Figure size 432x288 with 1 Axes>"
      ]
     },
     "metadata": {
      "needs_background": "light"
     },
     "output_type": "display_data"
    }
   ],
   "source": [
    "x = np.arange(0, 30)\n",
    "y = [3, 4, 5, 7, 10, 8, 9, 10, 10, 23, 27, 44, 50, 63, 67, 60, 62, 70, 75, 88, 81, 87, 95, 100, 108, 135, 151, 160, 169, 179]\n",
    "\n",
    "plt.plot(x,y,'o')"
   ]
  },
  {
   "cell_type": "code",
   "execution_count": 25,
   "id": "a4ab94b2",
   "metadata": {},
   "outputs": [
    {
     "data": {
      "image/png": "[encoded data removed]",
      "text/plain": [
       "<Figure size 432x288 with 1 Axes>"
      ]
     },
     "metadata": {
      "needs_background": "light"
     },
     "output_type": "display_data"
    },
    {
     "data": {
      "image/png": "[encoded data removed]",
      "text/plain": [
       "<Figure size 432x288 with 1 Axes>"
      ]
     },
     "metadata": {
      "needs_background": "light"
     },
     "output_type": "display_data"
    }
   ],
   "source": [
    "# fitting the linear regression model\n",
    "from sklearn.linear_model import LinearRegression\n",
    "lin_reg = LinearRegression()\n",
    "lin_reg.fit(x.reshape(-1,1),y)\n",
    " \n",
    "# visualising the linear regression model\n",
    "plt.scatter(x,y, color='red')\n",
    "plt.plot(x, lin_reg.predict(x.reshape(-1,1)),color='blue')\n",
    "plt.title(\"Linear Regression Model\")\n",
    "plt.show()\n",
    " \n",
    "# polynomial regression model\n",
    "from sklearn.preprocessing import PolynomialFeatures\n",
    "poly_reg = PolynomialFeatures(degree=4)\n",
    "X_poly = poly_reg.fit_transform(x.reshape(-1,1))\n",
    "  \n",
    "# prints X_poly\n",
    " \n",
    "lin_reg2 = LinearRegression()\n",
    "lin_reg2.fit(X_poly,y)\n",
    " \n",
    "X_grid = np.arange(min(x),max(x),0.1)\n",
    "X_grid = X_grid.reshape(len(X_grid),1) \n",
    "plt.scatter(x,y, color='red') \n",
    "  \n",
    "plt.plot(X_grid, lin_reg2.predict(poly_reg.fit_transform(X_grid)),color='blue') \n",
    "  \n",
    "plt.title(\"Polynomial Regression\")\n",
    "plt.show()"
   ]
  },
  {
   "cell_type": "markdown",
   "id": "57f487ff",
   "metadata": {},
   "source": [
    "### Bayesian Linear Regression\n",
    "This kind of regression is based on linear regression. In linear regression the equation is expressed as:\n",
    "\n",
    "$Y$ = $\\beta_0$ + $\\beta_1$.$X$ \n",
    "\n",
    "where $X$ is the independent variable and $Y$ is the dependent one (*response value*). The $\\beta_0$ is the intercept and $\\beta_1$ is the slope or *Regression coeifficient*. In Bayesian the $Y$ is not a estimated based on a single value in compared with linear regression but it is calculated from probability distribution. To find out more about the fitting process on a fake data, I use the available tutorial in the [sklearn](https://scikit-learn.org/stable/auto_examples/linear_model/plot_bayesian_ridge.html) page here:"
   ]
  },
  {
   "cell_type": "code",
   "execution_count": 27,
   "id": "2d2c8ce0",
   "metadata": {},
   "outputs": [],
   "source": [
    "# import the library\n",
    "from sklearn.linear_model import BayesianRidge, LinearRegression\n",
    "from scipy import stats\n",
    "\n",
    "# create a fake dataset with Gaussian weights\n",
    "np.random.seed(0)\n",
    "n_samples, n_features = 100, 100\n",
    "X = np.random.randn(n_samples, n_features) \n",
    "\n",
    "# we can define the weights precision with lambda_\n",
    "lambda_ = 3.0\n",
    "w = np.zeros(n_features)\n",
    "\n",
    "# how many weights of interest should we consider? we can add 10 weights\n",
    "relevant_features = np.random.randint(0, n_features, 10)\n",
    "for i in relevant_features:\n",
    "    w[i] = stats.norm.rvs(loc=0, scale=1.0 / np.sqrt(lambda_))\n",
    "    \n",
    "# we can add noise with precision alpha of 40?\n",
    "alpha_ = 40.0\n",
    "noise = stats.norm.rvs(loc=0, scale=1.0 / np.sqrt(alpha_), size=n_samples)\n",
    "# Create the target\n",
    "y = np.dot(X, w) + noise"
   ]
  },
  {
   "cell_type": "markdown",
   "id": "3df0ab96",
   "metadata": {},
   "source": [
    "Now I want to compare the results of Bayesian regression and the linear regression:"
   ]
  },
  {
   "cell_type": "code",
   "execution_count": 29,
   "id": "82e2c372",
   "metadata": {},
   "outputs": [
    {
     "data": {
      "text/plain": [
       "LinearRegression()"
      ]
     },
     "execution_count": 29,
     "metadata": {},
     "output_type": "execute_result"
    }
   ],
   "source": [
    "# let's fit two models linear regression and Bayesian regression\n",
    "# to compare both results\n",
    "clf = BayesianRidge(compute_score=True)\n",
    "clf.fit(X, y)\n",
    "\n",
    "ols = LinearRegression()\n",
    "ols.fit(X, y)"
   ]
  },
  {
   "cell_type": "markdown",
   "id": "c8eeff32",
   "metadata": {},
   "source": [
    "Now I plot the histogram of weights and OLS estimate:"
   ]
  },
  {
   "cell_type": "code",
   "execution_count": 34,
   "id": "409fb0b5",
   "metadata": {},
   "outputs": [
    {
     "data": {
      "text/plain": [
       "Text(0.5, 0, 'Iterations')"
      ]
     },
     "execution_count": 34,
     "metadata": {},
     "output_type": "execute_result"
    },
    {
     "data": {
      "image/png": "[encoded data removed]",
      "text/plain": [
       "<Figure size 432x360 with 1 Axes>"
      ]
     },
     "metadata": {
      "needs_background": "light"
     },
     "output_type": "display_data"
    },
    {
     "data": {
      "image/png": "[encoded data removed]",
      "text/plain": [
       "<Figure size 432x360 with 1 Axes>"
      ]
     },
     "metadata": {
      "needs_background": "light"
     },
     "output_type": "display_data"
    },
    {
     "data": {
      "image/png": "[encoded data removed]",
      "text/plain": [
       "<Figure size 432x360 with 1 Axes>"
      ]
     },
     "metadata": {
      "needs_background": "light"
     },
     "output_type": "display_data"
    }
   ],
   "source": [
    "# Plot true weights, estimated weights, histogram of the weights, and\n",
    "# predictions with standard deviations\n",
    "lw = 2\n",
    "plt.figure(figsize=(6, 5))\n",
    "plt.title(\"Weights of the model\")\n",
    "plt.plot(clf.coef_, color=\"lightgreen\", linewidth=lw, label=\"Bayesian Ridge estimate\")\n",
    "plt.plot(w, color=\"gold\", linewidth=lw, label=\"Ground truth\")\n",
    "plt.plot(ols.coef_, color=\"navy\", linestyle=\"--\", label=\"OLS estimate\")\n",
    "plt.xlabel(\"Features\")\n",
    "plt.ylabel(\"Values of the weights\")\n",
    "plt.legend(loc=\"best\", prop=dict(size=12))\n",
    "\n",
    "plt.figure(figsize=(6, 5))\n",
    "plt.title(\"Histogram of the weights\")\n",
    "plt.hist(clf.coef_, bins=n_features, color=\"gold\", log=True, edgecolor=\"black\")\n",
    "plt.scatter(\n",
    "    clf.coef_[relevant_features],\n",
    "    np.full(len(relevant_features), 5.0),\n",
    "    color=\"navy\",\n",
    "    label=\"Relevant features\",\n",
    ")\n",
    "plt.ylabel(\"Features\")\n",
    "plt.xlabel(\"Values of the weights\")\n",
    "plt.legend(loc=\"upper left\")\n",
    "\n",
    "plt.figure(figsize=(6, 5))\n",
    "plt.title(\"Marginal log-likelihood\")\n",
    "plt.plot(clf.scores_, color=\"navy\", linewidth=lw)\n",
    "plt.ylabel(\"Score\")\n",
    "plt.xlabel(\"Iterations\")"
   ]
  },
  {
   "cell_type": "markdown",
   "id": "db49fafe",
   "metadata": {},
   "source": [
    "Below the *Bayesian regression* is used to fit the the polynomial data:"
   ]
  },
  {
   "cell_type": "code",
   "execution_count": 33,
   "id": "1960b80b",
   "metadata": {},
   "outputs": [
    {
     "data": {
      "image/png": "[encoded data removed]",
      "text/plain": [
       "<Figure size 432x360 with 1 Axes>"
      ]
     },
     "metadata": {
      "needs_background": "light"
     },
     "output_type": "display_data"
    }
   ],
   "source": [
    "# Plotting some predictions for polynomial regression\n",
    "def f(x, noise_amount):\n",
    "    y = np.sqrt(x) * np.sin(x)\n",
    "    noise = np.random.normal(0, 1, len(x))\n",
    "    return y + noise_amount * noise\n",
    "\n",
    "\n",
    "degree = 10\n",
    "X = np.linspace(0, 10, 100)\n",
    "y = f(X, noise_amount=0.1)\n",
    "clf_poly = BayesianRidge()\n",
    "clf_poly.fit(np.vander(X, degree), y)\n",
    "\n",
    "X_plot = np.linspace(0, 11, 25)\n",
    "y_plot = f(X_plot, noise_amount=0)\n",
    "y_mean, y_std = clf_poly.predict(np.vander(X_plot, degree), return_std=True)\n",
    "plt.figure(figsize=(6, 5))\n",
    "plt.errorbar(\n",
    "    X_plot,\n",
    "    y_mean,\n",
    "    y_std,\n",
    "    color=\"navy\",\n",
    "    label=\"Polynomial Bayesian Ridge Regression\",\n",
    "    linewidth=lw,\n",
    ")\n",
    "plt.plot(X_plot, y_plot, color=\"gold\", linewidth=lw, label=\"Ground Truth\")\n",
    "plt.ylabel(\"Output y\")\n",
    "plt.xlabel(\"Feature X\")\n",
    "plt.legend(loc=\"lower left\")\n",
    "plt.show()"
   ]
  },
  {
   "cell_type": "markdown",
   "id": "0fe134ae",
   "metadata": {},
   "source": [
    "### Lasso Regression"
   ]
  },
  {
   "cell_type": "markdown",
   "id": "72f330d9",
   "metadata": {},
   "source": [
    "The *Lasso regression* uses the linear regression concept with the usage of *shrinkage* where the data values are shrunk towards a central point. "
   ]
  },
  {
   "cell_type": "code",
   "execution_count": 36,
   "id": "415a3639",
   "metadata": {},
   "outputs": [
    {
     "data": {
      "text/plain": [
       "Lasso(alpha=0.1)"
      ]
     },
     "execution_count": 36,
     "metadata": {},
     "output_type": "execute_result"
    }
   ],
   "source": [
    "from sklearn import linear_model\n",
    "\n",
    "# the alpha = 0 means that the fit equals to ordinary least square. \n",
    "clf = linear_model.Lasso(alpha=0.1)\n",
    "\n",
    "clf.fit([[0,0], [1, 1], [2, 2]], [0, 1, 2])\n",
    "\n",
    "https://www.analyticsvidhya.com/blog/2016/01/ridge-lasso-regression-python-complete-tutorial/"
   ]
  },
  {
   "cell_type": "markdown",
   "id": "95e84994",
   "metadata": {},
   "source": [
    "### Ridge Regression"
   ]
  },
  {
   "cell_type": "markdown",
   "id": "773e8a27",
   "metadata": {},
   "source": [
    "With this method of *Regression* we can estimate the coefficients where linearly independent variables are highly correlated. The loss function is the linear least squares function. "
   ]
  },
  {
   "cell_type": "code",
   "execution_count": 9,
   "id": "c9259bad",
   "metadata": {},
   "outputs": [
    {
     "data": {
      "image/png": "[encoded data removed]",
      "text/plain": [
       "<Figure size 432x288 with 1 Axes>"
      ]
     },
     "metadata": {
      "needs_background": "light"
     },
     "output_type": "display_data"
    }
   ],
   "source": [
    "from sklearn.linear_model import Ridge\n",
    "import numpy as np\n",
    "\n",
    "n_samples, n_features = 10, 5\n",
    "rng = np.random.RandomState(0)\n",
    "y = rng.randn(n_samples)\n",
    "X = rng.randn(n_samples, n_features)\n",
    "plt.plot(X,y,'o')\n",
    "plt.show()"
   ]
  },
  {
   "cell_type": "code",
   "execution_count": 11,
   "id": "c6c8f5f3",
   "metadata": {},
   "outputs": [],
   "source": [
    "n_alphas = 200\n",
    "alphas = np.logspace(-10, -2, n_alphas)\n",
    "\n",
    "coefs = []\n",
    "for a in alphas:\n",
    "    ridge = Ridge(alpha=a, fit_intercept=False)\n",
    "    ridge.fit(X, y)\n",
    "    coefs.append(ridge.coef_)"
   ]
  },
  {
   "cell_type": "code",
   "execution_count": 12,
   "id": "360c32f3",
   "metadata": {},
   "outputs": [
    {
     "data": {
      "image/png": "[encoded data removed]",
      "text/plain": [
       "<Figure size 432x288 with 1 Axes>"
      ]
     },
     "metadata": {
      "needs_background": "light"
     },
     "output_type": "display_data"
    }
   ],
   "source": [
    "ax = plt.gca()\n",
    "\n",
    "ax.plot(alphas, coefs)\n",
    "ax.set_xscale(\"log\")\n",
    "ax.set_xlim(ax.get_xlim()[::-1])  # reverse axis\n",
    "plt.xlabel(\"alpha\")\n",
    "plt.ylabel(\"weights\")\n",
    "plt.title(\"Ridge coefficients as a function of the regularization\")\n",
    "plt.axis(\"tight\")\n",
    "plt.show()\n"
   ]
  },
  {
   "cell_type": "markdown",
   "id": "d38d17f6",
   "metadata": {},
   "source": [
    "In *Ridge Regression* analysis there are a couple of hyper-parameters which we can tune them. First I present the effect of $\\alpha$ parameter on the quality of the fit:"
   ]
  },
  {
   "cell_type": "code",
   "execution_count": 77,
   "id": "edeb64ef",
   "metadata": {},
   "outputs": [],
   "source": [
    "x, y, coef = datasets.make_regression(n_samples=100,#number of samples\n",
    "                                      n_features=1,#number of features\n",
    "                                      n_informative=1,#number of useful features \n",
    "                                      noise=10,#bias and standard deviation of the guassian noise\n",
    "                                      coef=True,#true coefficient used to generated the data\n",
    "                                      random_state=0) #set for same data "
   ]
  },
  {
   "cell_type": "code",
   "execution_count": 78,
   "id": "e81ab52b",
   "metadata": {},
   "outputs": [
    {
     "data": {
      "text/plain": [
       "[<matplotlib.lines.Line2D at 0x7fa68c2b4a30>]"
      ]
     },
     "execution_count": 78,
     "metadata": {},
     "output_type": "execute_result"
    },
    {
     "data": {
      "image/png": "[encoded data removed]",
      "text/plain": [
       "<Figure size 432x288 with 1 Axes>"
      ]
     },
     "metadata": {
      "needs_background": "light"
     },
     "output_type": "display_data"
    }
   ],
   "source": [
    "plt.plot(x, y, 'o')"
   ]
  },
  {
   "cell_type": "markdown",
   "id": "a155b775",
   "metadata": {},
   "source": [
    "Let's work on the fit:"
   ]
  },
  {
   "cell_type": "code",
   "execution_count": 79,
   "id": "ceb5446b",
   "metadata": {},
   "outputs": [],
   "source": [
    "from sklearn.linear_model import Ridge\n",
    "X_train, X_test, y_train, y_test = train_test_split(x, y, random_state = 10)\n",
    "\n",
    "ridge_fit = Ridge(alpha= 5.0).fit(X_train, y_train)"
   ]
  },
  {
   "cell_type": "code",
   "execution_count": 80,
   "id": "282d93fa",
   "metadata": {},
   "outputs": [
    {
     "name": "stdout",
     "output_type": "stream",
     "text": [
      "intercept: -1.0239187368602118\n",
      "coeff:41.02000651883183\n",
      "R-squared score (training): 0.940\n",
      "R-squared score (test): 0.941\n",
      "Number of non-zero features: 1\n"
     ]
    }
   ],
   "source": [
    "print('intercept: {}'.format(ridge_fit.intercept_))\n",
    "print('coeff:{}'.format(ridge_fit.coef_[0]))\n",
    "print('R-squared score (training): {:.3f}'\n",
    "     .format(ridge_fit.score(X_train, y_train)))\n",
    "print('R-squared score (test): {:.3f}'\n",
    "     .format(ridge_fit.score(X_test, y_test)))\n",
    "print('Number of non-zero features: {}'\n",
    "     .format(np.sum(ridge_fit.coef_ != 0)))"
   ]
  },
  {
   "cell_type": "markdown",
   "id": "43360c8f",
   "metadata": {},
   "source": [
    "Let's tune the $\\alpha$ parameter"
   ]
  },
  {
   "cell_type": "code",
   "execution_count": 91,
   "id": "9f37c8a2",
   "metadata": {},
   "outputs": [
    {
     "name": "stdout",
     "output_type": "stream",
     "text": [
      "Aplpha =  0 \n",
      "R^2 for train 0.9432134979695842 R^2 for test 0.9308500333645752\n",
      "Aplpha =  0.001 \n",
      "R^2 for train 0.943213497805109 R^2 for test 0.9308531915056268\n",
      "Aplpha =  0.01 \n",
      "R^2 for train 0.9432134815259734 R^2 for test 0.9308815918834934\n",
      "Aplpha =  0.5 \n",
      "R^2 for train 0.9431729157575302 R^2 for test 0.932366390097529\n",
      "Aplpha =  1 \n",
      "R^2 for train 0.9430532779038083 R^2 for test 0.9337600620004659\n",
      "Aplpha =  3 \n",
      "R^2 for train 0.9418438518821655 R^2 for test 0.938192875747509\n",
      "Aplpha =  5 \n",
      "R^2 for train 0.9395951064417252 R^2 for test 0.9409844573858036\n",
      "Aplpha =  10 \n",
      "R^2 for train 0.9303790338757283 R^2 for test 0.9421517164880155\n",
      "Aplpha =  200 \n",
      "R^2 for train 0.44694999691747495 R^2 for test 0.4625503677605788\n",
      "Aplpha =  5000 \n",
      "R^2 for train 0.0279343769406738 R^2 for test -0.01721673522752787\n"
     ]
    }
   ],
   "source": [
    "alpha_list = [0, 0.001, 0.01, 0.5, 1, 3, 5, 10, 200, 5000]\n",
    "\n",
    "r_squared_test_list =[]\n",
    "\n",
    "for i in alpha_list:\n",
    "    r_squared_train = 0\n",
    "    r_squared_test = 0\n",
    "    clf_ridge = Ridge(alpha = i).fit(X_train, y_train)\n",
    "    r_squared_train = clf_ridge.score(X_train, y_train)\n",
    "    r_squared_test = clf_ridge.score(X_test, y_test)\n",
    "    r_squared_test_list.append(r_squared_test)\n",
    "    print('Aplpha = ',i,'\\nR^2 for train', r_squared_train,\n",
    "         'R^2 for test', r_squared_test)"
   ]
  },
  {
   "cell_type": "code",
   "execution_count": 95,
   "id": "70d2d413",
   "metadata": {},
   "outputs": [
    {
     "data": {
      "text/plain": [
       "(0.0, 200.0)"
      ]
     },
     "execution_count": 95,
     "metadata": {},
     "output_type": "execute_result"
    },
    {
     "data": {
      "image/png": "[encoded data removed]",
      "text/plain": [
       "<Figure size 432x288 with 1 Axes>"
      ]
     },
     "metadata": {
      "needs_background": "light"
     },
     "output_type": "display_data"
    }
   ],
   "source": [
    "plt.plot(alpha_list, r_squared_test_list)\n",
    "plt.xlim(0,200)"
   ]
  },
  {
   "cell_type": "markdown",
   "id": "7e6db229",
   "metadata": {},
   "source": [
    "It looks the best $\\alpha$ value is the one clsoe to zero value. Next, let's scale the data:"
   ]
  },
  {
   "cell_type": "code",
   "execution_count": 85,
   "id": "208b4aad",
   "metadata": {},
   "outputs": [],
   "source": [
    "from sklearn.preprocessing import MinMaxScaler\n",
    "scaler = MinMaxScaler()\n",
    "\n",
    "X_train_scaled = scaler.fit_transform(X_train)\n",
    "X_test_scaled = scaler.transform(X_test)"
   ]
  },
  {
   "cell_type": "code",
   "execution_count": 86,
   "id": "b524cab4",
   "metadata": {},
   "outputs": [
    {
     "name": "stdout",
     "output_type": "stream",
     "text": [
      "Aplpha =  0 \n",
      "R^2 for train 0.9432134979695842 R^2 for test 0.9308500333645752\n",
      "Aplpha =  0.0002 \n",
      "R^2 for train 0.9432134953924985 R^2 for test 0.9308625319020596\n",
      "Aplpha =  0.5 \n",
      "R^2 for train 0.9306134605001732 R^2 for test 0.9421989120065539\n",
      "Aplpha =  1 \n",
      "R^2 for train 0.9027157608954031 R^2 for test 0.9280362290592897\n",
      "Aplpha =  3 \n",
      "R^2 for train 0.7610267912213343 R^2 for test 0.800355366799541\n",
      "Aplpha =  5 \n",
      "R^2 for train 0.6405084622328269 R^2 for test 0.6748746220764092\n",
      "Aplpha =  10 \n",
      "R^2 for train 0.4497951544177541 R^2 for test 0.4657318033390747\n",
      "Aplpha =  200 \n",
      "R^2 for train 0.035077845900096105 R^2 for test -0.008899751949532408\n",
      "Aplpha =  1000 \n",
      "R^2 for train 0.0071763067504418965 R^2 for test -0.041405110647681376\n"
     ]
    }
   ],
   "source": [
    "alpha_list = [0,0.0002, 0.5, 1, 3, 5, 10, 200, 1000]\n",
    "\n",
    "for i in alpha_list:\n",
    "    r_squared_train = 0\n",
    "    r_squared_test = 0\n",
    "    clf_ridge = Ridge(alpha = i).fit(X_train_scaled, y_train)\n",
    "    r_squared_train = clf_ridge.score(X_train_scaled, y_train)\n",
    "    r_squared_test = clf_ridge.score(X_test_scaled, y_test)\n",
    "    print('Aplpha = ',i,'\\nR^2 for train', r_squared_train,\n",
    "         'R^2 for test', r_squared_test)"
   ]
  },
  {
   "cell_type": "code",
   "execution_count": 96,
   "id": "d442f210",
   "metadata": {},
   "outputs": [
    {
     "data": {
      "text/plain": [
       "(0.0, 200.0)"
      ]
     },
     "execution_count": 96,
     "metadata": {},
     "output_type": "execute_result"
    },
    {
     "data": {
      "image/png": "[encoded data removed]",
      "text/plain": [
       "<Figure size 432x288 with 1 Axes>"
      ]
     },
     "metadata": {
      "needs_background": "light"
     },
     "output_type": "display_data"
    }
   ],
   "source": [
    "plt.plot(alpha_list, r_squared_test_list)\n",
    "plt.xlim(0,200)"
   ]
  }
 ],
 "metadata": {
  "kernelspec": {
   "display_name": "Python 3 (ipykernel)",
   "language": "python",
   "name": "python3"
  },
  "language_info": {
   "codemirror_mode": {
    "name": "ipython",
    "version": 3
   },
   "file_extension": ".py",
   "mimetype": "text/x-python",
   "name": "python",
   "nbconvert_exporter": "python",
   "pygments_lexer": "ipython3",
   "version": "3.9.7"
  }
 },
 "nbformat": 4,
 "nbformat_minor": 5
}
