{
 "cells": [
  {
   "cell_type": "markdown",
   "id": "6dc22189-21d0-40a3-94f3-e463a33fe3ee",
   "metadata": {},
   "source": [
    "## Cost Function\n",
    "\n",
    "In this notebook I will compute the `cost` function for a linear regression model. This model has only one independent variable. \n",
    "\n",
    "The equation for cost with one variable is:\n",
    "  $$J(w,b) = \\frac{1}{2m} \\sum\\limits_{i = 0}^{m-1} (f_{w,b}(x^{(i)}) - y^{(i)})^2 \\tag{1}$$ \n",
    " \n",
    "where \n",
    "  $$f_{w,b}(x^{(i)}) = wx^{(i)} + b \\tag{2}$$\n",
    "  \n",
    "- $f_{w,b}(x^{(i)})$ is our prediction for example $i$ using parameters $w,b$.  \n",
    "- $(f_{w,b}(x^{(i)}) -y^{(i)})^2$ is the squared difference between the target value and the prediction.   \n",
    "- These differences are summed over all the $m$ examples and divided by `2m` to produce the cost, $J(w,b)$.  "
   ]
  },
  {
   "cell_type": "code",
   "execution_count": 51,
   "id": "c8acc15f-c115-487d-8824-9d3a272fe8fc",
   "metadata": {},
   "outputs": [],
   "source": [
    "import math\n",
    "import numpy as np\n",
    "import pandas as pd\n",
    "import matplotlib.pyplot as plt\n",
    "\n",
    "from pandas.plotting import scatter_matrix"
   ]
  },
  {
   "cell_type": "markdown",
   "id": "30a78370-9fe8-4bfe-aefc-e34387fec04e",
   "metadata": {},
   "source": [
    "Here I generate the data points for x and y"
   ]
  },
  {
   "cell_type": "code",
   "execution_count": 167,
   "id": "de0572df-9b30-47f5-9390-f800d718f592",
   "metadata": {},
   "outputs": [
    {
     "data": {
      "text/plain": [
       "Text(0.5, 1.0, 'house price vs. house square feet')"
      ]
     },
     "execution_count": 167,
     "metadata": {},
     "output_type": "execute_result"
    },
    {
     "data": {
      "image/png": "[encoded data removed]",
      "text/plain": [
       "<Figure size 432x288 with 1 Axes>"
      ]
     },
     "metadata": {
      "needs_background": "light"
     },
     "output_type": "display_data"
    }
   ],
   "source": [
    "x = np.linspace(1, 5, 30)\n",
    "y = np.linspace(20.5, 600, 30)\n",
    "\n",
    "plt.scatter(x, y)\n",
    "plt.xlabel('100 square feet')\n",
    "plt.ylabel('price $k')\n",
    "plt.title('house price vs. house square feet')"
   ]
  },
  {
   "cell_type": "markdown",
   "id": "3c31ede7-64b6-4f33-92a9-b213b94bbaf8",
   "metadata": {},
   "source": [
    "Below I want to calculate the cost function:"
   ]
  },
  {
   "cell_type": "code",
   "execution_count": 160,
   "id": "4db0396f-5c77-4956-9d7d-0f674bf032fa",
   "metadata": {},
   "outputs": [],
   "source": [
    "#Function to calculate the cost\n",
    "def compute_cost(x, y, w, b):\n",
    "   \n",
    "    m = x.shape[0] \n",
    "    cost = 0\n",
    "    \n",
    "    for i in range(m):\n",
    "        f_wb = w * x[i] + b\n",
    "        cost += (f_wb - y[i])**2\n",
    "        \n",
    "    total_cost = 1 / (2 * m) * cost\n",
    "\n",
    "    return total_cost"
   ]
  },
  {
   "cell_type": "markdown",
   "id": "faa11b00-df05-4c00-a27b-3850ff4bcdf4",
   "metadata": {},
   "source": [
    "Let's calculate the `cost function` for single pairs of `w` and `b`. As an example below the cost value for `w = 10` and `b = 1` is calculated"
   ]
  },
  {
   "cell_type": "code",
   "execution_count": 161,
   "id": "22fb3079-7db6-47fa-90e4-b98b5e9658e1",
   "metadata": {},
   "outputs": [
    {
     "data": {
      "text/plain": [
       "51954.17169540229"
      ]
     },
     "execution_count": 161,
     "metadata": {},
     "output_type": "execute_result"
    }
   ],
   "source": [
    "cost_function(x, y, 10, 1)"
   ]
  },
  {
   "cell_type": "markdown",
   "id": "0b44cc0d-2579-4df8-aa41-30e4630403c6",
   "metadata": {},
   "source": [
    "Here we like to see the values of `w` and `b` which minimizes the cost thus we need to find the optimum values of w and b. Therefore we need to use an approach to minimize the cost. One famous approach is `Gradient Descent`. To calculate it we need to build a function to calculate the gradients of `w` and `b`.\n",
    "\n",
    "### Gradient Descent\n",
    "$$\\begin{align*} \\text{repeat}&\\text{ until convergence:} \\; \\lbrace \\newline\n",
    "\\;  w &= w -  \\alpha \\frac{\\partial J(w,b)}{\\partial w} \\tag{3}  \\; \\newline \n",
    " b &= b -  \\alpha \\frac{\\partial J(w,b)}{\\partial b}  \\newline \\rbrace\n",
    "\\end{align*}$$\n",
    "where, parameters $w$, $b$ are updated simultaneously.  \n",
    "The gradient is defined as:\n",
    "$$\n",
    "\\begin{align}\n",
    "\\frac{\\partial J(w,b)}{\\partial w}  &= \\frac{1}{m} \\sum\\limits_{i = 0}^{m-1} (f_{w,b}(x^{(i)}) - y^{(i)})x^{(i)} \\tag{4}\\\\\n",
    "  \\frac{\\partial J(w,b)}{\\partial b}  &= \\frac{1}{m} \\sum\\limits_{i = 0}^{m-1} (f_{w,b}(x^{(i)}) - y^{(i)}) \\tag{5}\\\\\n",
    "\\end{align}\n",
    "$$\n"
   ]
  },
  {
   "cell_type": "code",
   "execution_count": 162,
   "id": "9c69a3d9-4784-48db-953d-8ac117a1d3d4",
   "metadata": {},
   "outputs": [],
   "source": [
    "def gradient_calc(x, y, w, b): \n",
    "  \n",
    "    \n",
    "    # Number of training examples\n",
    "    m = x.shape[0]    \n",
    "    dj_dw = 0\n",
    "    dj_db = 0\n",
    "    \n",
    "    for i in range(m):  \n",
    "        f_wb = w * x[i] + b \n",
    "        dj_dw_i = (f_wb - y[i]) * x[i] \n",
    "        dj_db_i = f_wb - y[i] \n",
    "        dj_db += dj_db_i\n",
    "        dj_dw += dj_dw_i \n",
    "    dj_dw = dj_dw / m \n",
    "    dj_db = dj_db / m \n",
    "        \n",
    "    return dj_dw, dj_db"
   ]
  },
  {
   "cell_type": "code",
   "execution_count": 163,
   "id": "7dfcdcea-3db6-4cae-8a2f-1232103494f7",
   "metadata": {},
   "outputs": [],
   "source": [
    "def gradient_descent(x, y, w_in, b_in, alpha, num_iters, compute_cost, gradient_calc): \n",
    " \n",
    "    # An array to store cost J and w's at each iteration primarily for graphing later\n",
    "    costs = []\n",
    "    w_b_s = []\n",
    "    b = b_in\n",
    "    w = w_in\n",
    "    \n",
    "    for iter in range(0, num_iters):\n",
    "        # Calculate the gradient \n",
    "        dj_dw, dj_db = gradient_calc(x, y, w , b)     \n",
    "\n",
    "        # Update w and b values\n",
    "        b = b - alpha * dj_db                            \n",
    "        w = w - alpha * dj_dw                            \n",
    "        \n",
    "        if iter<100000:      \n",
    "            costs.append( compute_cost(x, y, w , b))\n",
    "            w_b_s.append([w,b])\n",
    "        \n",
    "        if iter%1000 == 0:\n",
    "            print(f'iteration: {iter}, cost: {compute_cost(x, y, w , b)}, w: {w}, b: {b}')\n",
    " \n",
    "    return w, b, costs, w_b_s "
   ]
  },
  {
   "cell_type": "code",
   "execution_count": 164,
   "id": "6adb52af-7521-459c-9e0d-36f1d30b0ab7",
   "metadata": {},
   "outputs": [
    {
     "name": "stdout",
     "output_type": "stream",
     "text": [
      "iteration: 0, cost: 49527.00771840437, w: 11.820228620689655, b: 3.0884899999999997\n",
      "iteration: 1000, cost: 128.67303380501352, w: 132.24317758114304, b: -81.00933804118318\n",
      "iteration: 2000, cost: 10.307367796304725, w: 141.29983468856736, b: -112.10128325497749\n",
      "iteration: 3000, cost: 0.825672852707409, w: 143.8631264491978, b: -120.90118878779917\n",
      "iteration: 4000, cost: 0.06614061641831563, w: 144.5886109819765, b: -123.39181254434155\n",
      "iteration: 5000, cost: 0.005298201492094052, w: 144.79394375578897, b: -124.09672996345657\n",
      "iteration: 6000, cost: 0.00042441302441613676, w: 144.85205877560898, b: -124.29624165865597\n",
      "iteration: 7000, cost: 3.3997652894598194e-05, w: 144.86850698047164, b: -124.35270914753058\n",
      "iteration: 8000, cost: 2.72338579603338e-06, w: 144.87316229064862, b: -124.36869105423834\n",
      "iteration: 9000, cost: 2.1815712442813824e-07, w: 144.87447987594294, b: -124.37321438876445\n",
      "The final values for w: 144.87485260415963 and b: -124.37449398289682\n"
     ]
    }
   ],
   "source": [
    "w_initial = 0.5\n",
    "b_initial = 0.001\n",
    "iterations = 10000\n",
    "alpha = 1e-2\n",
    "\n",
    "w, b, cost, w_b_s = gradient_descent(x, y, w_initial, b_initial, alpha, iterations, cost_function, gradient_calc)\n",
    "\n",
    "print(f'The final values for w: {w} and b: {b}')"
   ]
  },
  {
   "cell_type": "markdown",
   "id": "357047a9-4cab-4b75-b594-c58885c20e97",
   "metadata": {},
   "source": [
    "### plot the fitted line\n",
    "The final values for `w` and `b` are calculated and let's plot the fitted line with these values."
   ]
  },
  {
   "cell_type": "code",
   "execution_count": 166,
   "id": "79b0df74-fa01-43e8-a526-4b795937dbd9",
   "metadata": {},
   "outputs": [
    {
     "data": {
      "text/plain": [
       "<matplotlib.legend.Legend at 0x7fb636ada640>"
      ]
     },
     "execution_count": 166,
     "metadata": {},
     "output_type": "execute_result"
    },
    {
     "data": {
      "image/png": "[encoded data removed]",
      "text/plain": [
       "<Figure size 432x288 with 1 Axes>"
      ]
     },
     "metadata": {
      "needs_background": "light"
     },
     "output_type": "display_data"
    }
   ],
   "source": [
    "f = w*x+b\n",
    "plt.scatter(x, y)\n",
    "plt.plot(x, f, '-r')\n",
    "plt.xlabel('100 square feet')\n",
    "plt.ylabel('house price $k')\n",
    "plt.title('House price vs. House size')\n",
    "plt.legend(['data', 'fitted line'])"
   ]
  },
  {
   "cell_type": "markdown",
   "id": "fa2db088-d4aa-4a4f-be40-af5ba6a185d0",
   "metadata": {},
   "source": [
    "### summary\n",
    "In this notebook I covered the concept of `gradient descent` and brought an example how to calculate the `cost function` and obtain the best value of fit."
   ]
  }
 ],
 "metadata": {
  "kernelspec": {
   "display_name": "Python 3 (ipykernel)",
   "language": "python",
   "name": "python3"
  },
  "language_info": {
   "codemirror_mode": {
    "name": "ipython",
    "version": 3
   },
   "file_extension": ".py",
   "mimetype": "text/x-python",
   "name": "python",
   "nbconvert_exporter": "python",
   "pygments_lexer": "ipython3",
   "version": "3.9.7"
  }
 },
 "nbformat": 4,
 "nbformat_minor": 5
}
